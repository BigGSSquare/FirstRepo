{
  "nbformat": 4,
  "nbformat_minor": 0,
  "metadata": {
    "colab": {
      "provenance": [],
      "authorship_tag": "ABX9TyMwMWRvP6hlbOGCZAEgEO6f",
      "include_colab_link": true
    },
    "kernelspec": {
      "name": "python3",
      "display_name": "Python 3"
    },
    "language_info": {
      "name": "python"
    }
  },
  "cells": [
    {
      "cell_type": "markdown",
      "metadata": {
        "id": "view-in-github",
        "colab_type": "text"
      },
      "source": [
        "<a href=\"https://colab.research.google.com/github/BigGSSquare/FirstRepo/blob/main/SE_TASK.ipynb\" target=\"_parent\"><img src=\"https://colab.research.google.com/assets/colab-badge.svg\" alt=\"Open In Colab\"/></a>"
      ]
    },
    {
      "cell_type": "markdown",
      "source": [
        "**HARDCODED VARIABLES**"
      ],
      "metadata": {
        "id": "FrSoTeMlwoBC"
      }
    },
    {
      "cell_type": "code",
      "execution_count": 2,
      "metadata": {
        "id": "ZZLrDS4AuF7V"
      },
      "outputs": [],
      "source": [
        "def Temperature_modelling(a,b,c,time):\n",
        "  temperature = a*time**2 + b*time + c\n",
        "  return temperature\n"
      ]
    },
    {
      "cell_type": "code",
      "source": [
        "a,b,c =0.1,2,10\n",
        "time = 5\n",
        "print(\"Hard - Coded variables for weather modeling\")\n",
        "print(\"Temperature for hardcoded coefficients at time\",time,\"hours:\", Temperature_modelling(a,b,c,time))"
      ],
      "metadata": {
        "colab": {
          "base_uri": "https://localhost:8080/"
        },
        "id": "LL4AtF-ww1gC",
        "outputId": "8b1da74e-f79c-43d5-d19c-fe78aabc6b75"
      },
      "execution_count": 3,
      "outputs": [
        {
          "output_type": "stream",
          "name": "stdout",
          "text": [
            "Hard - Coded variables for weather modeling\n",
            "Temperature for hardcoded coefficients at time 5 hours: 22.5\n"
          ]
        }
      ]
    },
    {
      "cell_type": "markdown",
      "source": [
        "ACCEPTING VARIABLES VIA KEYBOARD INPUT"
      ],
      "metadata": {
        "id": "Xulnxae8wyHI"
      }
    },
    {
      "cell_type": "code",
      "source": [
        "a = float(input(\"enter value for coefficient a:\"))\n",
        "b = float(input(\"enter value for coefficient b:\"))\n",
        "c = float(input(\"enter value for coefficient c:\"))\n",
        "\n",
        "time = float(input(\"enter time\"))\n",
        "\n",
        "print(\"accepting variables via keyboard input\")\n",
        "print(\"Temperature from keyboard coefficients at time\",time,\"hours:\",Temperature_modelling(a,b,c,time))"
      ],
      "metadata": {
        "id": "55Yhu0APwtvo"
      },
      "execution_count": null,
      "outputs": []
    },
    {
      "cell_type": "markdown",
      "source": [
        "READING VARIABLES FROM A FILE"
      ],
      "metadata": {
        "id": "93im-H6Sy06-"
      }
    },
    {
      "cell_type": "code",
      "source": [
        "def read_from_file(filename):\n",
        "  with open(filename,'r') as f:\n",
        "    lines=f.readlines()\n",
        "  coeffiecients=[tuple(map(float,line.strip().split(','))) for line in lines]\n",
        "  return coeffiecients"
      ],
      "metadata": {
        "id": "Ree2YvkZzp0C"
      },
      "execution_count": null,
      "outputs": []
    },
    {
      "cell_type": "code",
      "source": [
        "coeffiecients=read_from_file('/content/coefficients.txt')\n",
        "a,b,c,time=coeffiecients[0]\n",
        "temp=Temperature_modelling(a,b,c,time)\n",
        "print(\"read from a file for weather modelling\")\n",
        "print(\"Temperature for keyboard coefficients at time\",time,\"hours\",Temperature_modelling(a,b,c,time))"
      ],
      "metadata": {
        "colab": {
          "base_uri": "https://localhost:8080/"
        },
        "id": "NXZ5EJX6zu1x",
        "outputId": "722364a6-c25d-4e70-c691-5684a6a43b10"
      },
      "execution_count": null,
      "outputs": [
        {
          "output_type": "stream",
          "name": "stdout",
          "text": [
            "read from a file for weather modelling\n",
            "Temperature for keyboard coefficients at time 5.0 hours -8.0\n"
          ]
        }
      ]
    },
    {
      "cell_type": "code",
      "source": [
        "for idx, (a,b,c,time) in enumerate(coeffiecients):\n",
        "  temperature = Temperature_modelling(a,b,c,time)\n",
        "  print(\"Temperature from keyboard coefficients at a time\",time,\"hours\",Temperature_modelling(a,b,c,time))"
      ],
      "metadata": {
        "colab": {
          "base_uri": "https://localhost:8080/"
        },
        "id": "Y1P_fj5C1Yre",
        "outputId": "f7b8f98e-fdc4-4f71-dca8-b52593f91935"
      },
      "execution_count": null,
      "outputs": [
        {
          "output_type": "stream",
          "name": "stdout",
          "text": [
            "Temperature from keyboard coefficients at a time 5.0 hours -8.0\n",
            "Temperature from keyboard coefficients at a time 6.0 hours 89.0\n",
            "Temperature from keyboard coefficients at a time 7.0 hours 185.0\n"
          ]
        }
      ]
    }
  ]
}